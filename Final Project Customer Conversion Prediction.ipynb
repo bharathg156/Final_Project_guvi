{
 "cells": [
  {
   "cell_type": "markdown",
   "id": "12795adc",
   "metadata": {},
   "source": [
    "# Customer Conversion Prediction\n",
    "Problem Statement\n",
    "You are working for a new-age insurance company and employ multiple outreach plans to sell term insurance to your customers. Telephonic marketing campaigns still remain one of the most effective ways to reach out to people however they incur a lot of cost. Hence, it is important to identify the customers that are most likely to convert beforehand so that they can be specifically targeted via call. We are given the historical marketing data of the insurance company and are required to build a ML model that will predict if a client will subscribe to the insurance.\n",
    "# Data\n",
    "The historical sales data is available as a compressed file  here. Data Features: ● age (numeric) ● job : type of job ● marital : marital status ● educational_qual : education status ● call_type : contact communication type ● day: last contact day of the month (numeric) ● mon: last contact month of year ● dur: last contact duration, in seconds (numeric) ● num_calls: number of contacts performed during this campaign and for this client\n",
    "● prev_outcome: outcome of the previous marketing campaign (categorical: \"unknown\",\"other\",\"failure\",\"success\") Output variable (desired target): ● y - has the client subscribed to the insurance?\n",
    "# Minimum Requirements\n",
    "It is not sufficient to just fit a model - the model must be analysed to find the important factors that contribute towards the price. AUROC must be used as a metric to evaluate the performance of the models"
   ]
  },
  {
   "cell_type": "markdown",
   "id": "f88cefe9",
   "metadata": {},
   "source": [
    "# Importing necessary dependencies"
   ]
  },
  {
   "cell_type": "code",
   "execution_count": 1,
   "id": "a6b3efeb",
   "metadata": {},
   "outputs": [],
   "source": [
    "import numpy as np         \n",
    "import pandas as pd             \n",
    "import statistics as st                   \n",
    "                 \n",
    "import matplotlib.pyplot as plt           \n",
    "import seaborn as sns               "
   ]
  },
  {
   "cell_type": "code",
   "execution_count": 2,
   "id": "b2c8566e",
   "metadata": {},
   "outputs": [
    {
     "data": {
      "text/html": [
       "<div>\n",
       "<style scoped>\n",
       "    .dataframe tbody tr th:only-of-type {\n",
       "        vertical-align: middle;\n",
       "    }\n",
       "\n",
       "    .dataframe tbody tr th {\n",
       "        vertical-align: top;\n",
       "    }\n",
       "\n",
       "    .dataframe thead th {\n",
       "        text-align: right;\n",
       "    }\n",
       "</style>\n",
       "<table border=\"1\" class=\"dataframe\">\n",
       "  <thead>\n",
       "    <tr style=\"text-align: right;\">\n",
       "      <th></th>\n",
       "      <th>age</th>\n",
       "      <th>job</th>\n",
       "      <th>marital</th>\n",
       "      <th>education_qual</th>\n",
       "      <th>call_type</th>\n",
       "      <th>day</th>\n",
       "      <th>mon</th>\n",
       "      <th>dur</th>\n",
       "      <th>num_calls</th>\n",
       "      <th>prev_outcome</th>\n",
       "      <th>y</th>\n",
       "    </tr>\n",
       "  </thead>\n",
       "  <tbody>\n",
       "    <tr>\n",
       "      <th>0</th>\n",
       "      <td>58</td>\n",
       "      <td>management</td>\n",
       "      <td>married</td>\n",
       "      <td>tertiary</td>\n",
       "      <td>unknown</td>\n",
       "      <td>5</td>\n",
       "      <td>may</td>\n",
       "      <td>261</td>\n",
       "      <td>1</td>\n",
       "      <td>unknown</td>\n",
       "      <td>no</td>\n",
       "    </tr>\n",
       "    <tr>\n",
       "      <th>1</th>\n",
       "      <td>44</td>\n",
       "      <td>technician</td>\n",
       "      <td>single</td>\n",
       "      <td>secondary</td>\n",
       "      <td>unknown</td>\n",
       "      <td>5</td>\n",
       "      <td>may</td>\n",
       "      <td>151</td>\n",
       "      <td>1</td>\n",
       "      <td>unknown</td>\n",
       "      <td>no</td>\n",
       "    </tr>\n",
       "    <tr>\n",
       "      <th>2</th>\n",
       "      <td>33</td>\n",
       "      <td>entrepreneur</td>\n",
       "      <td>married</td>\n",
       "      <td>secondary</td>\n",
       "      <td>unknown</td>\n",
       "      <td>5</td>\n",
       "      <td>may</td>\n",
       "      <td>76</td>\n",
       "      <td>1</td>\n",
       "      <td>unknown</td>\n",
       "      <td>no</td>\n",
       "    </tr>\n",
       "    <tr>\n",
       "      <th>3</th>\n",
       "      <td>47</td>\n",
       "      <td>blue-collar</td>\n",
       "      <td>married</td>\n",
       "      <td>unknown</td>\n",
       "      <td>unknown</td>\n",
       "      <td>5</td>\n",
       "      <td>may</td>\n",
       "      <td>92</td>\n",
       "      <td>1</td>\n",
       "      <td>unknown</td>\n",
       "      <td>no</td>\n",
       "    </tr>\n",
       "    <tr>\n",
       "      <th>4</th>\n",
       "      <td>33</td>\n",
       "      <td>unknown</td>\n",
       "      <td>single</td>\n",
       "      <td>unknown</td>\n",
       "      <td>unknown</td>\n",
       "      <td>5</td>\n",
       "      <td>may</td>\n",
       "      <td>198</td>\n",
       "      <td>1</td>\n",
       "      <td>unknown</td>\n",
       "      <td>no</td>\n",
       "    </tr>\n",
       "  </tbody>\n",
       "</table>\n",
       "</div>"
      ],
      "text/plain": [
       "   age           job  marital education_qual call_type  day  mon  dur  \\\n",
       "0   58    management  married       tertiary   unknown    5  may  261   \n",
       "1   44    technician   single      secondary   unknown    5  may  151   \n",
       "2   33  entrepreneur  married      secondary   unknown    5  may   76   \n",
       "3   47   blue-collar  married        unknown   unknown    5  may   92   \n",
       "4   33       unknown   single        unknown   unknown    5  may  198   \n",
       "\n",
       "   num_calls prev_outcome   y  \n",
       "0          1      unknown  no  \n",
       "1          1      unknown  no  \n",
       "2          1      unknown  no  \n",
       "3          1      unknown  no  \n",
       "4          1      unknown  no  "
      ]
     },
     "execution_count": 2,
     "metadata": {},
     "output_type": "execute_result"
    }
   ],
   "source": [
    "df=pd.read_csv('Customer Conversion Prediction.csv')\n",
    "df.head()"
   ]
  },
  {
   "cell_type": "code",
   "execution_count": 3,
   "id": "a9a1c0fc",
   "metadata": {},
   "outputs": [
    {
     "data": {
      "text/plain": [
       "(45211, 11)"
      ]
     },
     "execution_count": 3,
     "metadata": {},
     "output_type": "execute_result"
    }
   ],
   "source": [
    "df.shape"
   ]
  },
  {
   "cell_type": "code",
   "execution_count": 4,
   "id": "cc169233",
   "metadata": {},
   "outputs": [
    {
     "data": {
      "text/plain": [
       "Index(['age', 'job', 'marital', 'education_qual', 'call_type', 'day', 'mon',\n",
       "       'dur', 'num_calls', 'prev_outcome', 'y'],\n",
       "      dtype='object')"
      ]
     },
     "execution_count": 4,
     "metadata": {},
     "output_type": "execute_result"
    }
   ],
   "source": [
    "df.columns"
   ]
  },
  {
   "cell_type": "code",
   "execution_count": 5,
   "id": "5db53e25",
   "metadata": {},
   "outputs": [],
   "source": [
    "num_var = df[['age', 'day', 'dur', 'num_calls']]\n",
    "cat_var = df[['job', 'marital', 'education_qual', 'call_type', 'mon', 'prev_outcome','y']]\n",
    "tar_var = df[['y']]"
   ]
  },
  {
   "cell_type": "markdown",
   "id": "0a78df9c",
   "metadata": {},
   "source": [
    "# Cleaning and handling missing values"
   ]
  },
  {
   "cell_type": "code",
   "execution_count": 6,
   "id": "06e04eeb",
   "metadata": {},
   "outputs": [
    {
     "data": {
      "text/plain": [
       "age               0\n",
       "job               0\n",
       "marital           0\n",
       "education_qual    0\n",
       "call_type         0\n",
       "day               0\n",
       "mon               0\n",
       "dur               0\n",
       "num_calls         0\n",
       "prev_outcome      0\n",
       "y                 0\n",
       "dtype: int64"
      ]
     },
     "execution_count": 6,
     "metadata": {},
     "output_type": "execute_result"
    }
   ],
   "source": [
    "df.isnull().sum()"
   ]
  },
  {
   "cell_type": "markdown",
   "id": "90aa4c0d",
   "metadata": {},
   "source": [
    "here in this dataset there are no missing values so there no need to get lost of any data so we can proceed further"
   ]
  },
  {
   "cell_type": "markdown",
   "id": "f5ca658e",
   "metadata": {},
   "source": [
    "# Data type correction"
   ]
  },
  {
   "cell_type": "code",
   "execution_count": 7,
   "id": "dab642c4",
   "metadata": {},
   "outputs": [
    {
     "data": {
      "text/plain": [
       "age                int64\n",
       "job               object\n",
       "marital           object\n",
       "education_qual    object\n",
       "call_type         object\n",
       "day                int64\n",
       "mon               object\n",
       "dur                int64\n",
       "num_calls          int64\n",
       "prev_outcome      object\n",
       "y                 object\n",
       "dtype: object"
      ]
     },
     "execution_count": 7,
     "metadata": {},
     "output_type": "execute_result"
    }
   ],
   "source": [
    "df.dtypes"
   ]
  },
  {
   "cell_type": "markdown",
   "id": "75d1c0db",
   "metadata": {},
   "source": [
    "#As the number of object data type columns is more it is important to know how each object data column is divided into categories. \n",
    "#Let's explore all the categorical columns and know into how many categories they are divided into."
   ]
  },
  {
   "cell_type": "code",
   "execution_count": 8,
   "id": "513cdcd4",
   "metadata": {},
   "outputs": [
    {
     "data": {
      "text/plain": [
       "['job', 'marital', 'education_qual', 'call_type', 'mon', 'prev_outcome', 'y']"
      ]
     },
     "execution_count": 8,
     "metadata": {},
     "output_type": "execute_result"
    }
   ],
   "source": [
    "object_data_cols = [var for var in df.columns if df[var].dtype == 'object']\n",
    "object_data_cols"
   ]
  },
  {
   "cell_type": "code",
   "execution_count": 9,
   "id": "b35345be",
   "metadata": {},
   "outputs": [
    {
     "name": "stdout",
     "output_type": "stream",
     "text": [
      "Column \"job\" is divided into \"12\" categories.\n",
      "Column \"marital\" is divided into \"3\" categories.\n",
      "Column \"education_qual\" is divided into \"4\" categories.\n",
      "Column \"call_type\" is divided into \"3\" categories.\n",
      "Column \"mon\" is divided into \"12\" categories.\n",
      "Column \"prev_outcome\" is divided into \"4\" categories.\n",
      "Column \"y\" is divided into \"2\" categories.\n"
     ]
    }
   ],
   "source": [
    "for i in object_data_cols:\n",
    "  print(f'Column \"{i}\" is divided into \"{len(df[i].value_counts())}\" categories.')"
   ]
  },
  {
   "cell_type": "code",
   "execution_count": 10,
   "id": "627c0aea",
   "metadata": {},
   "outputs": [
    {
     "data": {
      "text/plain": [
       "blue-collar      9732\n",
       "management       9458\n",
       "technician       7597\n",
       "admin.           5171\n",
       "services         4154\n",
       "retired          2264\n",
       "self-employed    1579\n",
       "entrepreneur     1487\n",
       "unemployed       1303\n",
       "housemaid        1240\n",
       "student           938\n",
       "unknown           288\n",
       "Name: job, dtype: int64"
      ]
     },
     "execution_count": 10,
     "metadata": {},
     "output_type": "execute_result"
    }
   ],
   "source": [
    "df['job'].value_counts()"
   ]
  },
  {
   "cell_type": "code",
   "execution_count": 11,
   "id": "b5402329",
   "metadata": {},
   "outputs": [
    {
     "data": {
      "text/plain": [
       "married     27214\n",
       "single      12790\n",
       "divorced     5207\n",
       "Name: marital, dtype: int64"
      ]
     },
     "execution_count": 11,
     "metadata": {},
     "output_type": "execute_result"
    }
   ],
   "source": [
    "df['marital'].value_counts()"
   ]
  },
  {
   "cell_type": "code",
   "execution_count": 12,
   "id": "3abac923",
   "metadata": {},
   "outputs": [
    {
     "data": {
      "text/plain": [
       "secondary    23202\n",
       "tertiary     13301\n",
       "primary       6851\n",
       "unknown       1857\n",
       "Name: education_qual, dtype: int64"
      ]
     },
     "execution_count": 12,
     "metadata": {},
     "output_type": "execute_result"
    }
   ],
   "source": [
    "df['education_qual'].value_counts()"
   ]
  },
  {
   "cell_type": "code",
   "execution_count": 13,
   "id": "2eaf4465",
   "metadata": {},
   "outputs": [
    {
     "data": {
      "text/plain": [
       "cellular     29285\n",
       "unknown      13020\n",
       "telephone     2906\n",
       "Name: call_type, dtype: int64"
      ]
     },
     "execution_count": 13,
     "metadata": {},
     "output_type": "execute_result"
    }
   ],
   "source": [
    "df['call_type'].value_counts()"
   ]
  },
  {
   "cell_type": "code",
   "execution_count": 14,
   "id": "8f454173",
   "metadata": {},
   "outputs": [
    {
     "data": {
      "text/plain": [
       "may    13766\n",
       "jul     6895\n",
       "aug     6247\n",
       "jun     5341\n",
       "nov     3970\n",
       "apr     2932\n",
       "feb     2649\n",
       "jan     1403\n",
       "oct      738\n",
       "sep      579\n",
       "mar      477\n",
       "dec      214\n",
       "Name: mon, dtype: int64"
      ]
     },
     "execution_count": 14,
     "metadata": {},
     "output_type": "execute_result"
    }
   ],
   "source": [
    "df['mon'].value_counts()"
   ]
  },
  {
   "cell_type": "code",
   "execution_count": 15,
   "id": "4dcb5a2f",
   "metadata": {},
   "outputs": [
    {
     "data": {
      "text/plain": [
       "unknown    36959\n",
       "failure     4901\n",
       "other       1840\n",
       "success     1511\n",
       "Name: prev_outcome, dtype: int64"
      ]
     },
     "execution_count": 15,
     "metadata": {},
     "output_type": "execute_result"
    }
   ],
   "source": [
    "df['prev_outcome'].value_counts()"
   ]
  },
  {
   "cell_type": "code",
   "execution_count": 16,
   "id": "113f2fc1",
   "metadata": {},
   "outputs": [
    {
     "data": {
      "text/plain": [
       "no     39922\n",
       "yes     5289\n",
       "Name: y, dtype: int64"
      ]
     },
     "execution_count": 16,
     "metadata": {},
     "output_type": "execute_result"
    }
   ],
   "source": [
    "df['y'].value_counts()"
   ]
  },
  {
   "cell_type": "code",
   "execution_count": 17,
   "id": "ba4b9e4c",
   "metadata": {},
   "outputs": [],
   "source": [
    "df = df.drop_duplicates()"
   ]
  },
  {
   "cell_type": "code",
   "execution_count": 18,
   "id": "df6bd83c",
   "metadata": {},
   "outputs": [
    {
     "data": {
      "text/plain": [
       "(45205, 11)"
      ]
     },
     "execution_count": 18,
     "metadata": {},
     "output_type": "execute_result"
    }
   ],
   "source": [
    "df.shape"
   ]
  },
  {
   "cell_type": "markdown",
   "id": "835e9609",
   "metadata": {},
   "source": [
    "# Outliers"
   ]
  },
  {
   "cell_type": "code",
   "execution_count": 19,
   "id": "17fdc6df",
   "metadata": {},
   "outputs": [
    {
     "data": {
      "text/html": [
       "<div>\n",
       "<style scoped>\n",
       "    .dataframe tbody tr th:only-of-type {\n",
       "        vertical-align: middle;\n",
       "    }\n",
       "\n",
       "    .dataframe tbody tr th {\n",
       "        vertical-align: top;\n",
       "    }\n",
       "\n",
       "    .dataframe thead th {\n",
       "        text-align: right;\n",
       "    }\n",
       "</style>\n",
       "<table border=\"1\" class=\"dataframe\">\n",
       "  <thead>\n",
       "    <tr style=\"text-align: right;\">\n",
       "      <th></th>\n",
       "      <th>age</th>\n",
       "      <th>day</th>\n",
       "      <th>dur</th>\n",
       "      <th>num_calls</th>\n",
       "    </tr>\n",
       "  </thead>\n",
       "  <tbody>\n",
       "    <tr>\n",
       "      <th>count</th>\n",
       "      <td>45205.000000</td>\n",
       "      <td>45205.00000</td>\n",
       "      <td>45205.000000</td>\n",
       "      <td>45205.000000</td>\n",
       "    </tr>\n",
       "    <tr>\n",
       "      <th>mean</th>\n",
       "      <td>40.937087</td>\n",
       "      <td>15.80688</td>\n",
       "      <td>258.183055</td>\n",
       "      <td>2.763898</td>\n",
       "    </tr>\n",
       "    <tr>\n",
       "      <th>std</th>\n",
       "      <td>10.619130</td>\n",
       "      <td>8.32234</td>\n",
       "      <td>257.538504</td>\n",
       "      <td>3.098189</td>\n",
       "    </tr>\n",
       "    <tr>\n",
       "      <th>min</th>\n",
       "      <td>18.000000</td>\n",
       "      <td>1.00000</td>\n",
       "      <td>0.000000</td>\n",
       "      <td>1.000000</td>\n",
       "    </tr>\n",
       "    <tr>\n",
       "      <th>25%</th>\n",
       "      <td>33.000000</td>\n",
       "      <td>8.00000</td>\n",
       "      <td>103.000000</td>\n",
       "      <td>1.000000</td>\n",
       "    </tr>\n",
       "    <tr>\n",
       "      <th>50%</th>\n",
       "      <td>39.000000</td>\n",
       "      <td>16.00000</td>\n",
       "      <td>180.000000</td>\n",
       "      <td>2.000000</td>\n",
       "    </tr>\n",
       "    <tr>\n",
       "      <th>75%</th>\n",
       "      <td>48.000000</td>\n",
       "      <td>21.00000</td>\n",
       "      <td>319.000000</td>\n",
       "      <td>3.000000</td>\n",
       "    </tr>\n",
       "    <tr>\n",
       "      <th>max</th>\n",
       "      <td>95.000000</td>\n",
       "      <td>31.00000</td>\n",
       "      <td>4918.000000</td>\n",
       "      <td>63.000000</td>\n",
       "    </tr>\n",
       "  </tbody>\n",
       "</table>\n",
       "</div>"
      ],
      "text/plain": [
       "                age          day           dur     num_calls\n",
       "count  45205.000000  45205.00000  45205.000000  45205.000000\n",
       "mean      40.937087     15.80688    258.183055      2.763898\n",
       "std       10.619130      8.32234    257.538504      3.098189\n",
       "min       18.000000      1.00000      0.000000      1.000000\n",
       "25%       33.000000      8.00000    103.000000      1.000000\n",
       "50%       39.000000     16.00000    180.000000      2.000000\n",
       "75%       48.000000     21.00000    319.000000      3.000000\n",
       "max       95.000000     31.00000   4918.000000     63.000000"
      ]
     },
     "execution_count": 19,
     "metadata": {},
     "output_type": "execute_result"
    }
   ],
   "source": [
    "df.describe()"
   ]
  },
  {
   "cell_type": "code",
   "execution_count": 20,
   "id": "f028221d",
   "metadata": {},
   "outputs": [
    {
     "data": {
      "image/png": "[encoded data removed]",
      "text/plain": [
       "<Figure size 1440x288 with 1 Axes>"
      ]
     },
     "metadata": {
      "needs_background": "light"
     },
     "output_type": "display_data"
    },
    {
     "data": {
      "image/png": "[encoded data removed]",
      "text/plain": [
       "<Figure size 1440x288 with 1 Axes>"
      ]
     },
     "metadata": {
      "needs_background": "light"
     },
     "output_type": "display_data"
    },
    {
     "data": {
      "image/png": "[encoded data removed]",
      "text/plain": [
       "<Figure size 1440x288 with 1 Axes>"
      ]
     },
     "metadata": {
      "needs_background": "light"
     },
     "output_type": "display_data"
    },
    {
     "data": {
      "image/png": "[encoded data removed]",
      "text/plain": [
       "<Figure size 1440x288 with 1 Axes>"
      ]
     },
     "metadata": {
      "needs_background": "light"
     },
     "output_type": "display_data"
    }
   ],
   "source": [
    "\n",
    "for column in num_var.columns:\n",
    "  plt.figure(figsize=(20,4))\n",
    "  ax = plt.subplot(121)\n",
    "  sns.boxplot(data=df, x=column)\n",
    "  plt.title(column)\n"
   ]
  },
  {
   "cell_type": "code",
   "execution_count": 21,
   "id": "c2a262cd",
   "metadata": {},
   "outputs": [],
   "source": [
    "for i in num_var:\n",
    "\n",
    "  iqr = df[i].quantile(0.75) - df[i].quantile(0.25)              \n",
    "  upper_threshold = df[i].quantile(0.75) + (1.5 * iqr)\n",
    "  lower_threshold = df[i].quantile(0.25) - (1.5 * iqr)\n",
    "  upper_threshold, lower_threshold\n",
    "\n",
    "  df[i] = df[i].clip(lower_threshold,upper_threshold)\n"
   ]
  },
  {
   "cell_type": "code",
   "execution_count": 22,
   "id": "650bc2da",
   "metadata": {},
   "outputs": [
    {
     "data": {
      "image/png": "[encoded data removed]",
      "text/plain": [
       "<Figure size 1440x288 with 1 Axes>"
      ]
     },
     "metadata": {
      "needs_background": "light"
     },
     "output_type": "display_data"
    },
    {
     "data": {
      "image/png": "[encoded data removed]",
      "text/plain": [
       "<Figure size 1440x288 with 1 Axes>"
      ]
     },
     "metadata": {
      "needs_background": "light"
     },
     "output_type": "display_data"
    },
    {
     "data": {
      "image/png": "[encoded data removed]",
      "text/plain": [
       "<Figure size 1440x288 with 1 Axes>"
      ]
     },
     "metadata": {
      "needs_background": "light"
     },
     "output_type": "display_data"
    },
    {
     "data": {
      "image/png": "[encoded data removed]",
      "text/plain": [
       "<Figure size 1440x288 with 1 Axes>"
      ]
     },
     "metadata": {
      "needs_background": "light"
     },
     "output_type": "display_data"
    }
   ],
   "source": [
    "for column in num_var.columns:\n",
    "  plt.figure(figsize=(20,4))\n",
    "  ax = plt.subplot(121)\n",
    "  sns.boxplot(data=df, x=column)\n",
    "  plt.title(column)"
   ]
  },
  {
   "cell_type": "code",
   "execution_count": 23,
   "id": "addbcc84",
   "metadata": {},
   "outputs": [],
   "source": [
    "impute=['prev_outcome']\n",
    "for column in impute:\n",
    "  mode = df[column].mode()[0]\n",
    "  df[column] = df[column].replace('unknown',mode)"
   ]
  },
  {
   "cell_type": "code",
   "execution_count": 24,
   "id": "6feacf7a",
   "metadata": {},
   "outputs": [],
   "source": [
    "impute=['job','education_qual']\n",
    "for column in impute:\n",
    "  mode = df[column].mode()[0]\n",
    "  df[column] = df[column].replace('unknown',mode)"
   ]
  },
  {
   "cell_type": "markdown",
   "id": "5917d80f",
   "metadata": {},
   "source": [
    "# EDA"
   ]
  },
  {
   "cell_type": "code",
   "execution_count": 25,
   "id": "5e97a86f",
   "metadata": {},
   "outputs": [
    {
     "name": "stderr",
     "output_type": "stream",
     "text": [
      "C:\\ProgramData\\Anaconda3\\lib\\site-packages\\seaborn\\_decorators.py:36: FutureWarning: Pass the following variable as a keyword arg: x. From version 0.12, the only valid positional argument will be `data`, and passing other arguments without an explicit keyword will result in an error or misinterpretation.\n",
      "  warnings.warn(\n",
      "C:\\ProgramData\\Anaconda3\\lib\\site-packages\\seaborn\\_decorators.py:36: FutureWarning: Pass the following variable as a keyword arg: x. From version 0.12, the only valid positional argument will be `data`, and passing other arguments without an explicit keyword will result in an error or misinterpretation.\n",
      "  warnings.warn(\n",
      "C:\\ProgramData\\Anaconda3\\lib\\site-packages\\seaborn\\_decorators.py:36: FutureWarning: Pass the following variable as a keyword arg: x. From version 0.12, the only valid positional argument will be `data`, and passing other arguments without an explicit keyword will result in an error or misinterpretation.\n",
      "  warnings.warn(\n",
      "C:\\ProgramData\\Anaconda3\\lib\\site-packages\\seaborn\\_decorators.py:36: FutureWarning: Pass the following variable as a keyword arg: x. From version 0.12, the only valid positional argument will be `data`, and passing other arguments without an explicit keyword will result in an error or misinterpretation.\n",
      "  warnings.warn(\n",
      "C:\\ProgramData\\Anaconda3\\lib\\site-packages\\seaborn\\_decorators.py:36: FutureWarning: Pass the following variable as a keyword arg: x. From version 0.12, the only valid positional argument will be `data`, and passing other arguments without an explicit keyword will result in an error or misinterpretation.\n",
      "  warnings.warn(\n",
      "C:\\ProgramData\\Anaconda3\\lib\\site-packages\\seaborn\\_decorators.py:36: FutureWarning: Pass the following variable as a keyword arg: x. From version 0.12, the only valid positional argument will be `data`, and passing other arguments without an explicit keyword will result in an error or misinterpretation.\n",
      "  warnings.warn(\n"
     ]
    },
    {
     "data": {
      "image/png": "[encoded data removed]",
      "text/plain": [
       "<Figure size 1440x1800 with 6 Axes>"
      ]
     },
     "metadata": {},
     "output_type": "display_data"
    }
   ],
   "source": [
    "sns.set_theme(style='darkgrid',palette='pastel')\n",
    "\n",
    "plt.figure(figsize=(20,25))\n",
    "plt.subplot(431) \n",
    "sns.countplot(df['job'],order=df['job'].value_counts().index[::-1])\n",
    "plt.xticks(rotation=15)\n",
    "plt.xlabel('job')\n",
    "plt.ylabel('Count')\n",
    "plt.title('Sales of insurance according to jobs')\n",
    "\n",
    "plt.subplot(432)\n",
    "sns.countplot(df['marital'],order=df['marital'].value_counts().index[::-1])\n",
    "plt.xticks(rotation=15)\n",
    "plt.xlabel('marital')\n",
    "plt.ylabel('Count')\n",
    "plt.title('Sales of insurance according to marital')\n",
    "\n",
    "plt.subplot(433)\n",
    "sns.countplot(df['education_qual'],order=df['education_qual'].value_counts().index[::-1])\n",
    "plt.xticks(rotation=15)\n",
    "plt.xlabel('education_qual')\n",
    "plt.ylabel('Count')\n",
    "plt.title('Sales of insurance according to education_qual')\n",
    "\n",
    "plt.subplot(434)\n",
    "sns.countplot(df['call_type'],order=df['call_type'].value_counts().index[::-1])\n",
    "plt.xticks(rotation=15)\n",
    "plt.xlabel('call_type')\n",
    "plt.ylabel('Count')\n",
    "plt.title('Sales of insurance according to call_type')\n",
    "\n",
    "plt.subplot(435)\n",
    "sns.countplot(df['mon'],order=df['mon'].value_counts().index[::-1])\n",
    "plt.xticks(rotation=15)\n",
    "plt.xlabel('mon')\n",
    "plt.ylabel('Count')\n",
    "plt.title('Sales of insurance according to mon')\n",
    "\n",
    "plt.subplot(436)\n",
    "sns.countplot(df['prev_outcome'],order=df['prev_outcome'].value_counts().index[::-1])\n",
    "plt.xticks(rotation=15)\n",
    "plt.xlabel('prev_outcome')\n",
    "plt.ylabel('Count')\n",
    "plt.title('Sales of insurance according to prev_outcome')\n",
    "\n",
    "plt.tight_layout()"
   ]
  },
  {
   "cell_type": "markdown",
   "id": "2c76f3fb",
   "metadata": {},
   "source": [
    "Interpretations :\n",
    "    1.According to the column \"job\" the sales of insurance blue_collar jobs people are subscribed more.\n",
    "    2.According to the column \"marital\" the sales of insurance married people are subscribed more.\n",
    "    3.According to the column \"education_qual\" the secondary qualifiaction people are subscribed more.\n",
    "    4.According to the column \"call_type\" the calls made through cellular calls are subsricbed more.\n",
    "    5.According to the column \"mon\" the calls made on may month are subscribed more.\n",
    "    6.According to the column \"prev_outcome\" the insurance subsrcibed success is less."
   ]
  },
  {
   "cell_type": "markdown",
   "id": "564835e5",
   "metadata": {},
   "source": [
    "# Target variable analysis"
   ]
  },
  {
   "cell_type": "code",
   "execution_count": 26,
   "id": "a6601719",
   "metadata": {},
   "outputs": [],
   "source": [
    "df[\"y\"] = df[\"y\"].map({\"yes\" : 1, \"no\" : 0})"
   ]
  },
  {
   "cell_type": "code",
   "execution_count": 27,
   "id": "13e40b1d",
   "metadata": {},
   "outputs": [
    {
     "name": "stdout",
     "output_type": "stream",
     "text": [
      "Class 0: 39916\n",
      "Class 1: 5289\n",
      "Proportion of class 0 is  88.3 %\n"
     ]
    },
    {
     "data": {
      "image/png": "[encoded data removed]",
      "text/plain": [
       "<Figure size 432x288 with 1 Axes>"
      ]
     },
     "metadata": {},
     "output_type": "display_data"
    }
   ],
   "source": [
    "target_count = df.y.value_counts()\n",
    "print('Class 0:', target_count[0])\n",
    "print('Class 1:', target_count[1])\n",
    "print('Proportion of class 0 is ', round(target_count[0] * 100 / (target_count[1] + target_count[0]), 2),'%')\n",
    "sns.countplot(x='y', data=df)\n",
    "plt.show()"
   ]
  },
  {
   "cell_type": "markdown",
   "id": "35a1e2d5",
   "metadata": {},
   "source": [
    " We came to conclusion that given data is imbalanced data"
   ]
  },
  {
   "cell_type": "markdown",
   "id": "aaaa82da",
   "metadata": {},
   "source": [
    "# Plotting barplots for features vs target "
   ]
  },
  {
   "cell_type": "code",
   "execution_count": 28,
   "id": "80348552",
   "metadata": {},
   "outputs": [
    {
     "name": "stdout",
     "output_type": "stream",
     "text": [
      "Index(['job', 'marital', 'education_qual', 'call_type', 'mon', 'prev_outcome'], dtype='object')\n"
     ]
    }
   ],
   "source": [
    "cat_var = df.select_dtypes(include=['object']).columns\n",
    "print(cat_var)"
   ]
  },
  {
   "cell_type": "code",
   "execution_count": 29,
   "id": "3b2b3c25",
   "metadata": {},
   "outputs": [
    {
     "data": {
      "image/png": "[encoded data removed]",
      "text/plain": [
       "<Figure size 432x288 with 1 Axes>"
      ]
     },
     "metadata": {},
     "output_type": "display_data"
    },
    {
     "name": "stdout",
     "output_type": "stream",
     "text": [
      "job\n",
      "student          0.286780\n",
      "retired          0.227915\n",
      "unemployed       0.155027\n",
      "management       0.137570\n",
      "admin.           0.122050\n",
      "self-employed    0.118429\n",
      "technician       0.110585\n",
      "services         0.088851\n",
      "housemaid        0.087903\n",
      "entrepreneur     0.082717\n",
      "blue-collar      0.074067\n",
      "Name: y, dtype: float64\n"
     ]
    },
    {
     "data": {
      "image/png": "[encoded data removed]",
      "text/plain": [
       "<Figure size 432x288 with 1 Axes>"
      ]
     },
     "metadata": {},
     "output_type": "display_data"
    },
    {
     "name": "stdout",
     "output_type": "stream",
     "text": [
      "marital\n",
      "single      0.149515\n",
      "divorced    0.119455\n",
      "married     0.101250\n",
      "Name: y, dtype: float64\n"
     ]
    },
    {
     "data": {
      "image/png": "[encoded data removed]",
      "text/plain": [
       "<Figure size 432x288 with 1 Axes>"
      ]
     },
     "metadata": {},
     "output_type": "display_data"
    },
    {
     "name": "stdout",
     "output_type": "stream",
     "text": [
      "education_qual\n",
      "tertiary     0.150086\n",
      "secondary    0.107838\n",
      "primary      0.086277\n",
      "Name: y, dtype: float64\n"
     ]
    },
    {
     "data": {
      "image/png": "[encoded data removed]",
      "text/plain": [
       "<Figure size 432x288 with 1 Axes>"
      ]
     },
     "metadata": {},
     "output_type": "display_data"
    },
    {
     "name": "stdout",
     "output_type": "stream",
     "text": [
      "call_type\n",
      "cellular     0.149204\n",
      "telephone    0.134205\n",
      "unknown      0.040716\n",
      "Name: y, dtype: float64\n"
     ]
    },
    {
     "data": {
      "image/png": "[encoded data removed]",
      "text/plain": [
       "<Figure size 432x288 with 1 Axes>"
      ]
     },
     "metadata": {},
     "output_type": "display_data"
    },
    {
     "name": "stdout",
     "output_type": "stream",
     "text": [
      "mon\n",
      "mar    0.519916\n",
      "dec    0.467290\n",
      "sep    0.464594\n",
      "oct    0.437669\n",
      "apr    0.196794\n",
      "feb    0.166478\n",
      "aug    0.110168\n",
      "jun    0.102266\n",
      "nov    0.101511\n",
      "jan    0.101212\n",
      "jul    0.090949\n",
      "may    0.067199\n",
      "Name: y, dtype: float64\n"
     ]
    },
    {
     "data": {
      "image/png": "[encoded data removed]",
      "text/plain": [
       "<Figure size 432x288 with 1 Axes>"
      ]
     },
     "metadata": {},
     "output_type": "display_data"
    },
    {
     "name": "stdout",
     "output_type": "stream",
     "text": [
      "prev_outcome\n",
      "success    0.647253\n",
      "other      0.166848\n",
      "failure    0.126097\n",
      "unknown    0.091630\n",
      "Name: y, dtype: float64\n"
     ]
    }
   ],
   "source": [
    "for i in cat_var:\n",
    "    df.groupby(i)['y'].mean().sort_values(ascending=False).plot(kind='bar')\n",
    "    plt.title(i) \n",
    "    plt.show()  \n",
    "    print(df.groupby(i)['y'].mean().sort_values(ascending=False))\n"
   ]
  },
  {
   "cell_type": "markdown",
   "id": "e14d527e",
   "metadata": {},
   "source": [
    "for features of job and  marital,educational_qual there is a linear relationship and we will do label encoding,call_type,mon,prev_outcome there is a relationship but there is no linear relationship we will go for one hot encoding  "
   ]
  },
  {
   "cell_type": "markdown",
   "id": "7fe64c78",
   "metadata": {},
   "source": [
    "Correlation"
   ]
  },
  {
   "cell_type": "code",
   "execution_count": 30,
   "id": "b3d0fe9f",
   "metadata": {},
   "outputs": [
    {
     "name": "stdout",
     "output_type": "stream",
     "text": [
      "age          0.018946\n",
      "day         -0.028371\n",
      "dur          0.390642\n",
      "num_calls   -0.084067\n",
      "y            1.000000\n",
      "Name: y, dtype: float64\n"
     ]
    }
   ],
   "source": [
    "corr_y = df.corr()['y']\n",
    "print(corr_y)"
   ]
  },
  {
   "cell_type": "code",
   "execution_count": 31,
   "id": "fc299330",
   "metadata": {},
   "outputs": [
    {
     "data": {
      "text/plain": [
       "dur          0.390642\n",
       "num_calls    0.084067\n",
       "day          0.028371\n",
       "age          0.018946\n",
       "Name: y, dtype: float64"
      ]
     },
     "execution_count": 31,
     "metadata": {},
     "output_type": "execute_result"
    }
   ],
   "source": [
    "corr_y = corr_y[:-1].abs().sort_values(ascending = False)\n",
    "corr_y"
   ]
  },
  {
   "cell_type": "code",
   "execution_count": 32,
   "id": "4a58bb89",
   "metadata": {},
   "outputs": [
    {
     "data": {
      "image/png": "[encoded data removed]",
      "text/plain": [
       "<Figure size 864x540 with 1 Axes>"
      ]
     },
     "metadata": {},
     "output_type": "display_data"
    }
   ],
   "source": [
    "plt.figure(figsize=(12,7.5))\n",
    "corr_y.plot(kind='bar')\n",
    "plt.xlabel('Feature')\n",
    "plt.ylabel('Correlation')\n",
    "plt.title('Correlations between features and the target variable')\n",
    "plt.show()"
   ]
  },
  {
   "cell_type": "markdown",
   "id": "3054c86a",
   "metadata": {},
   "source": [
    "We can say that from the above graph call duration of the call is highly correlated with the target variable.If duration of the call is more, there are higher chances that the client is showing interest in the term deposit."
   ]
  },
  {
   "cell_type": "markdown",
   "id": "72dea341",
   "metadata": {},
   "source": [
    "# Encoding"
   ]
  },
  {
   "cell_type": "code",
   "execution_count": 33,
   "id": "6456c56b",
   "metadata": {},
   "outputs": [],
   "source": [
    "df[\"job\"] = df[\"job\"].map({'blue-collar': 0,'entrepreneur': 1, 'housemaid':2, 'services' :3, 'technician' :4, 'self-employed':5, 'admin.' :6, 'management' :7, 'unemployed':8, 'retired':9, 'student':10 })\n",
    "df[\"marital\"] = df[\"marital\"].map({'married':0, 'divorced':1, 'single':2 })\n",
    "df[\"education_qual\"] = df[\"education_qual\"].map({'primary':0, 'secondary':1, 'tertiary':2 })\n",
    "\n",
    "#one hot encoding\n",
    "df = pd.get_dummies(df,columns = [\"call_type\"])\n",
    "df = pd.get_dummies(df,columns = [\"mon\"])\n",
    "df = pd.get_dummies(df,columns = [\"prev_outcome\"])\n"
   ]
  },
  {
   "cell_type": "code",
   "execution_count": 34,
   "id": "d4e5faa4",
   "metadata": {},
   "outputs": [
    {
     "data": {
      "text/html": [
       "<div>\n",
       "<style scoped>\n",
       "    .dataframe tbody tr th:only-of-type {\n",
       "        vertical-align: middle;\n",
       "    }\n",
       "\n",
       "    .dataframe tbody tr th {\n",
       "        vertical-align: top;\n",
       "    }\n",
       "\n",
       "    .dataframe thead th {\n",
       "        text-align: right;\n",
       "    }\n",
       "</style>\n",
       "<table border=\"1\" class=\"dataframe\">\n",
       "  <thead>\n",
       "    <tr style=\"text-align: right;\">\n",
       "      <th></th>\n",
       "      <th>age</th>\n",
       "      <th>job</th>\n",
       "      <th>marital</th>\n",
       "      <th>education_qual</th>\n",
       "      <th>day</th>\n",
       "      <th>dur</th>\n",
       "      <th>num_calls</th>\n",
       "      <th>y</th>\n",
       "      <th>call_type_cellular</th>\n",
       "      <th>call_type_telephone</th>\n",
       "      <th>...</th>\n",
       "      <th>mon_jun</th>\n",
       "      <th>mon_mar</th>\n",
       "      <th>mon_may</th>\n",
       "      <th>mon_nov</th>\n",
       "      <th>mon_oct</th>\n",
       "      <th>mon_sep</th>\n",
       "      <th>prev_outcome_failure</th>\n",
       "      <th>prev_outcome_other</th>\n",
       "      <th>prev_outcome_success</th>\n",
       "      <th>prev_outcome_unknown</th>\n",
       "    </tr>\n",
       "  </thead>\n",
       "  <tbody>\n",
       "    <tr>\n",
       "      <th>0</th>\n",
       "      <td>58.0</td>\n",
       "      <td>7</td>\n",
       "      <td>0</td>\n",
       "      <td>2</td>\n",
       "      <td>5</td>\n",
       "      <td>261.0</td>\n",
       "      <td>1.0</td>\n",
       "      <td>0</td>\n",
       "      <td>0</td>\n",
       "      <td>0</td>\n",
       "      <td>...</td>\n",
       "      <td>0</td>\n",
       "      <td>0</td>\n",
       "      <td>1</td>\n",
       "      <td>0</td>\n",
       "      <td>0</td>\n",
       "      <td>0</td>\n",
       "      <td>0</td>\n",
       "      <td>0</td>\n",
       "      <td>0</td>\n",
       "      <td>1</td>\n",
       "    </tr>\n",
       "    <tr>\n",
       "      <th>1</th>\n",
       "      <td>44.0</td>\n",
       "      <td>4</td>\n",
       "      <td>2</td>\n",
       "      <td>1</td>\n",
       "      <td>5</td>\n",
       "      <td>151.0</td>\n",
       "      <td>1.0</td>\n",
       "      <td>0</td>\n",
       "      <td>0</td>\n",
       "      <td>0</td>\n",
       "      <td>...</td>\n",
       "      <td>0</td>\n",
       "      <td>0</td>\n",
       "      <td>1</td>\n",
       "      <td>0</td>\n",
       "      <td>0</td>\n",
       "      <td>0</td>\n",
       "      <td>0</td>\n",
       "      <td>0</td>\n",
       "      <td>0</td>\n",
       "      <td>1</td>\n",
       "    </tr>\n",
       "    <tr>\n",
       "      <th>2</th>\n",
       "      <td>33.0</td>\n",
       "      <td>1</td>\n",
       "      <td>0</td>\n",
       "      <td>1</td>\n",
       "      <td>5</td>\n",
       "      <td>76.0</td>\n",
       "      <td>1.0</td>\n",
       "      <td>0</td>\n",
       "      <td>0</td>\n",
       "      <td>0</td>\n",
       "      <td>...</td>\n",
       "      <td>0</td>\n",
       "      <td>0</td>\n",
       "      <td>1</td>\n",
       "      <td>0</td>\n",
       "      <td>0</td>\n",
       "      <td>0</td>\n",
       "      <td>0</td>\n",
       "      <td>0</td>\n",
       "      <td>0</td>\n",
       "      <td>1</td>\n",
       "    </tr>\n",
       "    <tr>\n",
       "      <th>3</th>\n",
       "      <td>47.0</td>\n",
       "      <td>0</td>\n",
       "      <td>0</td>\n",
       "      <td>1</td>\n",
       "      <td>5</td>\n",
       "      <td>92.0</td>\n",
       "      <td>1.0</td>\n",
       "      <td>0</td>\n",
       "      <td>0</td>\n",
       "      <td>0</td>\n",
       "      <td>...</td>\n",
       "      <td>0</td>\n",
       "      <td>0</td>\n",
       "      <td>1</td>\n",
       "      <td>0</td>\n",
       "      <td>0</td>\n",
       "      <td>0</td>\n",
       "      <td>0</td>\n",
       "      <td>0</td>\n",
       "      <td>0</td>\n",
       "      <td>1</td>\n",
       "    </tr>\n",
       "    <tr>\n",
       "      <th>4</th>\n",
       "      <td>33.0</td>\n",
       "      <td>0</td>\n",
       "      <td>2</td>\n",
       "      <td>1</td>\n",
       "      <td>5</td>\n",
       "      <td>198.0</td>\n",
       "      <td>1.0</td>\n",
       "      <td>0</td>\n",
       "      <td>0</td>\n",
       "      <td>0</td>\n",
       "      <td>...</td>\n",
       "      <td>0</td>\n",
       "      <td>0</td>\n",
       "      <td>1</td>\n",
       "      <td>0</td>\n",
       "      <td>0</td>\n",
       "      <td>0</td>\n",
       "      <td>0</td>\n",
       "      <td>0</td>\n",
       "      <td>0</td>\n",
       "      <td>1</td>\n",
       "    </tr>\n",
       "  </tbody>\n",
       "</table>\n",
       "<p>5 rows × 27 columns</p>\n",
       "</div>"
      ],
      "text/plain": [
       "    age  job  marital  education_qual  day    dur  num_calls  y  \\\n",
       "0  58.0    7        0               2    5  261.0        1.0  0   \n",
       "1  44.0    4        2               1    5  151.0        1.0  0   \n",
       "2  33.0    1        0               1    5   76.0        1.0  0   \n",
       "3  47.0    0        0               1    5   92.0        1.0  0   \n",
       "4  33.0    0        2               1    5  198.0        1.0  0   \n",
       "\n",
       "   call_type_cellular  call_type_telephone  ...  mon_jun  mon_mar  mon_may  \\\n",
       "0                   0                    0  ...        0        0        1   \n",
       "1                   0                    0  ...        0        0        1   \n",
       "2                   0                    0  ...        0        0        1   \n",
       "3                   0                    0  ...        0        0        1   \n",
       "4                   0                    0  ...        0        0        1   \n",
       "\n",
       "   mon_nov  mon_oct  mon_sep  prev_outcome_failure  prev_outcome_other  \\\n",
       "0        0        0        0                     0                   0   \n",
       "1        0        0        0                     0                   0   \n",
       "2        0        0        0                     0                   0   \n",
       "3        0        0        0                     0                   0   \n",
       "4        0        0        0                     0                   0   \n",
       "\n",
       "   prev_outcome_success  prev_outcome_unknown  \n",
       "0                     0                     1  \n",
       "1                     0                     1  \n",
       "2                     0                     1  \n",
       "3                     0                     1  \n",
       "4                     0                     1  \n",
       "\n",
       "[5 rows x 27 columns]"
      ]
     },
     "execution_count": 34,
     "metadata": {},
     "output_type": "execute_result"
    }
   ],
   "source": [
    "df.head()"
   ]
  },
  {
   "cell_type": "markdown",
   "id": "319e0af5",
   "metadata": {},
   "source": [
    "# Splitting the data"
   ]
  },
  {
   "cell_type": "code",
   "execution_count": 35,
   "id": "5afd22e4",
   "metadata": {},
   "outputs": [],
   "source": [
    "def split(dataframe):\n",
    "    x = dataframe.drop('y',axis=1)\n",
    "    y = dataframe['y']\n",
    "    return x,y"
   ]
  },
  {
   "cell_type": "code",
   "execution_count": 36,
   "id": "2aac499d",
   "metadata": {},
   "outputs": [],
   "source": [
    "x, y = split(df)"
   ]
  },
  {
   "cell_type": "code",
   "execution_count": 37,
   "id": "423e9726",
   "metadata": {},
   "outputs": [
    {
     "data": {
      "text/html": [
       "<div>\n",
       "<style scoped>\n",
       "    .dataframe tbody tr th:only-of-type {\n",
       "        vertical-align: middle;\n",
       "    }\n",
       "\n",
       "    .dataframe tbody tr th {\n",
       "        vertical-align: top;\n",
       "    }\n",
       "\n",
       "    .dataframe thead th {\n",
       "        text-align: right;\n",
       "    }\n",
       "</style>\n",
       "<table border=\"1\" class=\"dataframe\">\n",
       "  <thead>\n",
       "    <tr style=\"text-align: right;\">\n",
       "      <th></th>\n",
       "      <th>age</th>\n",
       "      <th>job</th>\n",
       "      <th>marital</th>\n",
       "      <th>education_qual</th>\n",
       "      <th>day</th>\n",
       "      <th>dur</th>\n",
       "      <th>num_calls</th>\n",
       "      <th>call_type_cellular</th>\n",
       "      <th>call_type_telephone</th>\n",
       "      <th>call_type_unknown</th>\n",
       "      <th>...</th>\n",
       "      <th>mon_jun</th>\n",
       "      <th>mon_mar</th>\n",
       "      <th>mon_may</th>\n",
       "      <th>mon_nov</th>\n",
       "      <th>mon_oct</th>\n",
       "      <th>mon_sep</th>\n",
       "      <th>prev_outcome_failure</th>\n",
       "      <th>prev_outcome_other</th>\n",
       "      <th>prev_outcome_success</th>\n",
       "      <th>prev_outcome_unknown</th>\n",
       "    </tr>\n",
       "  </thead>\n",
       "  <tbody>\n",
       "    <tr>\n",
       "      <th>0</th>\n",
       "      <td>58.0</td>\n",
       "      <td>7</td>\n",
       "      <td>0</td>\n",
       "      <td>2</td>\n",
       "      <td>5</td>\n",
       "      <td>261.0</td>\n",
       "      <td>1.0</td>\n",
       "      <td>0</td>\n",
       "      <td>0</td>\n",
       "      <td>1</td>\n",
       "      <td>...</td>\n",
       "      <td>0</td>\n",
       "      <td>0</td>\n",
       "      <td>1</td>\n",
       "      <td>0</td>\n",
       "      <td>0</td>\n",
       "      <td>0</td>\n",
       "      <td>0</td>\n",
       "      <td>0</td>\n",
       "      <td>0</td>\n",
       "      <td>1</td>\n",
       "    </tr>\n",
       "    <tr>\n",
       "      <th>1</th>\n",
       "      <td>44.0</td>\n",
       "      <td>4</td>\n",
       "      <td>2</td>\n",
       "      <td>1</td>\n",
       "      <td>5</td>\n",
       "      <td>151.0</td>\n",
       "      <td>1.0</td>\n",
       "      <td>0</td>\n",
       "      <td>0</td>\n",
       "      <td>1</td>\n",
       "      <td>...</td>\n",
       "      <td>0</td>\n",
       "      <td>0</td>\n",
       "      <td>1</td>\n",
       "      <td>0</td>\n",
       "      <td>0</td>\n",
       "      <td>0</td>\n",
       "      <td>0</td>\n",
       "      <td>0</td>\n",
       "      <td>0</td>\n",
       "      <td>1</td>\n",
       "    </tr>\n",
       "    <tr>\n",
       "      <th>2</th>\n",
       "      <td>33.0</td>\n",
       "      <td>1</td>\n",
       "      <td>0</td>\n",
       "      <td>1</td>\n",
       "      <td>5</td>\n",
       "      <td>76.0</td>\n",
       "      <td>1.0</td>\n",
       "      <td>0</td>\n",
       "      <td>0</td>\n",
       "      <td>1</td>\n",
       "      <td>...</td>\n",
       "      <td>0</td>\n",
       "      <td>0</td>\n",
       "      <td>1</td>\n",
       "      <td>0</td>\n",
       "      <td>0</td>\n",
       "      <td>0</td>\n",
       "      <td>0</td>\n",
       "      <td>0</td>\n",
       "      <td>0</td>\n",
       "      <td>1</td>\n",
       "    </tr>\n",
       "    <tr>\n",
       "      <th>3</th>\n",
       "      <td>47.0</td>\n",
       "      <td>0</td>\n",
       "      <td>0</td>\n",
       "      <td>1</td>\n",
       "      <td>5</td>\n",
       "      <td>92.0</td>\n",
       "      <td>1.0</td>\n",
       "      <td>0</td>\n",
       "      <td>0</td>\n",
       "      <td>1</td>\n",
       "      <td>...</td>\n",
       "      <td>0</td>\n",
       "      <td>0</td>\n",
       "      <td>1</td>\n",
       "      <td>0</td>\n",
       "      <td>0</td>\n",
       "      <td>0</td>\n",
       "      <td>0</td>\n",
       "      <td>0</td>\n",
       "      <td>0</td>\n",
       "      <td>1</td>\n",
       "    </tr>\n",
       "    <tr>\n",
       "      <th>4</th>\n",
       "      <td>33.0</td>\n",
       "      <td>0</td>\n",
       "      <td>2</td>\n",
       "      <td>1</td>\n",
       "      <td>5</td>\n",
       "      <td>198.0</td>\n",
       "      <td>1.0</td>\n",
       "      <td>0</td>\n",
       "      <td>0</td>\n",
       "      <td>1</td>\n",
       "      <td>...</td>\n",
       "      <td>0</td>\n",
       "      <td>0</td>\n",
       "      <td>1</td>\n",
       "      <td>0</td>\n",
       "      <td>0</td>\n",
       "      <td>0</td>\n",
       "      <td>0</td>\n",
       "      <td>0</td>\n",
       "      <td>0</td>\n",
       "      <td>1</td>\n",
       "    </tr>\n",
       "    <tr>\n",
       "      <th>...</th>\n",
       "      <td>...</td>\n",
       "      <td>...</td>\n",
       "      <td>...</td>\n",
       "      <td>...</td>\n",
       "      <td>...</td>\n",
       "      <td>...</td>\n",
       "      <td>...</td>\n",
       "      <td>...</td>\n",
       "      <td>...</td>\n",
       "      <td>...</td>\n",
       "      <td>...</td>\n",
       "      <td>...</td>\n",
       "      <td>...</td>\n",
       "      <td>...</td>\n",
       "      <td>...</td>\n",
       "      <td>...</td>\n",
       "      <td>...</td>\n",
       "      <td>...</td>\n",
       "      <td>...</td>\n",
       "      <td>...</td>\n",
       "      <td>...</td>\n",
       "    </tr>\n",
       "    <tr>\n",
       "      <th>45206</th>\n",
       "      <td>51.0</td>\n",
       "      <td>4</td>\n",
       "      <td>0</td>\n",
       "      <td>2</td>\n",
       "      <td>17</td>\n",
       "      <td>643.0</td>\n",
       "      <td>3.0</td>\n",
       "      <td>1</td>\n",
       "      <td>0</td>\n",
       "      <td>0</td>\n",
       "      <td>...</td>\n",
       "      <td>0</td>\n",
       "      <td>0</td>\n",
       "      <td>0</td>\n",
       "      <td>1</td>\n",
       "      <td>0</td>\n",
       "      <td>0</td>\n",
       "      <td>0</td>\n",
       "      <td>0</td>\n",
       "      <td>0</td>\n",
       "      <td>1</td>\n",
       "    </tr>\n",
       "    <tr>\n",
       "      <th>45207</th>\n",
       "      <td>70.5</td>\n",
       "      <td>9</td>\n",
       "      <td>1</td>\n",
       "      <td>0</td>\n",
       "      <td>17</td>\n",
       "      <td>456.0</td>\n",
       "      <td>2.0</td>\n",
       "      <td>1</td>\n",
       "      <td>0</td>\n",
       "      <td>0</td>\n",
       "      <td>...</td>\n",
       "      <td>0</td>\n",
       "      <td>0</td>\n",
       "      <td>0</td>\n",
       "      <td>1</td>\n",
       "      <td>0</td>\n",
       "      <td>0</td>\n",
       "      <td>0</td>\n",
       "      <td>0</td>\n",
       "      <td>0</td>\n",
       "      <td>1</td>\n",
       "    </tr>\n",
       "    <tr>\n",
       "      <th>45208</th>\n",
       "      <td>70.5</td>\n",
       "      <td>9</td>\n",
       "      <td>0</td>\n",
       "      <td>1</td>\n",
       "      <td>17</td>\n",
       "      <td>643.0</td>\n",
       "      <td>5.0</td>\n",
       "      <td>1</td>\n",
       "      <td>0</td>\n",
       "      <td>0</td>\n",
       "      <td>...</td>\n",
       "      <td>0</td>\n",
       "      <td>0</td>\n",
       "      <td>0</td>\n",
       "      <td>1</td>\n",
       "      <td>0</td>\n",
       "      <td>0</td>\n",
       "      <td>0</td>\n",
       "      <td>0</td>\n",
       "      <td>1</td>\n",
       "      <td>0</td>\n",
       "    </tr>\n",
       "    <tr>\n",
       "      <th>45209</th>\n",
       "      <td>57.0</td>\n",
       "      <td>0</td>\n",
       "      <td>0</td>\n",
       "      <td>1</td>\n",
       "      <td>17</td>\n",
       "      <td>508.0</td>\n",
       "      <td>4.0</td>\n",
       "      <td>0</td>\n",
       "      <td>1</td>\n",
       "      <td>0</td>\n",
       "      <td>...</td>\n",
       "      <td>0</td>\n",
       "      <td>0</td>\n",
       "      <td>0</td>\n",
       "      <td>1</td>\n",
       "      <td>0</td>\n",
       "      <td>0</td>\n",
       "      <td>0</td>\n",
       "      <td>0</td>\n",
       "      <td>0</td>\n",
       "      <td>1</td>\n",
       "    </tr>\n",
       "    <tr>\n",
       "      <th>45210</th>\n",
       "      <td>37.0</td>\n",
       "      <td>1</td>\n",
       "      <td>0</td>\n",
       "      <td>1</td>\n",
       "      <td>17</td>\n",
       "      <td>361.0</td>\n",
       "      <td>2.0</td>\n",
       "      <td>1</td>\n",
       "      <td>0</td>\n",
       "      <td>0</td>\n",
       "      <td>...</td>\n",
       "      <td>0</td>\n",
       "      <td>0</td>\n",
       "      <td>0</td>\n",
       "      <td>1</td>\n",
       "      <td>0</td>\n",
       "      <td>0</td>\n",
       "      <td>0</td>\n",
       "      <td>1</td>\n",
       "      <td>0</td>\n",
       "      <td>0</td>\n",
       "    </tr>\n",
       "  </tbody>\n",
       "</table>\n",
       "<p>45205 rows × 26 columns</p>\n",
       "</div>"
      ],
      "text/plain": [
       "        age  job  marital  education_qual  day    dur  num_calls  \\\n",
       "0      58.0    7        0               2    5  261.0        1.0   \n",
       "1      44.0    4        2               1    5  151.0        1.0   \n",
       "2      33.0    1        0               1    5   76.0        1.0   \n",
       "3      47.0    0        0               1    5   92.0        1.0   \n",
       "4      33.0    0        2               1    5  198.0        1.0   \n",
       "...     ...  ...      ...             ...  ...    ...        ...   \n",
       "45206  51.0    4        0               2   17  643.0        3.0   \n",
       "45207  70.5    9        1               0   17  456.0        2.0   \n",
       "45208  70.5    9        0               1   17  643.0        5.0   \n",
       "45209  57.0    0        0               1   17  508.0        4.0   \n",
       "45210  37.0    1        0               1   17  361.0        2.0   \n",
       "\n",
       "       call_type_cellular  call_type_telephone  call_type_unknown  ...  \\\n",
       "0                       0                    0                  1  ...   \n",
       "1                       0                    0                  1  ...   \n",
       "2                       0                    0                  1  ...   \n",
       "3                       0                    0                  1  ...   \n",
       "4                       0                    0                  1  ...   \n",
       "...                   ...                  ...                ...  ...   \n",
       "45206                   1                    0                  0  ...   \n",
       "45207                   1                    0                  0  ...   \n",
       "45208                   1                    0                  0  ...   \n",
       "45209                   0                    1                  0  ...   \n",
       "45210                   1                    0                  0  ...   \n",
       "\n",
       "       mon_jun  mon_mar  mon_may  mon_nov  mon_oct  mon_sep  \\\n",
       "0            0        0        1        0        0        0   \n",
       "1            0        0        1        0        0        0   \n",
       "2            0        0        1        0        0        0   \n",
       "3            0        0        1        0        0        0   \n",
       "4            0        0        1        0        0        0   \n",
       "...        ...      ...      ...      ...      ...      ...   \n",
       "45206        0        0        0        1        0        0   \n",
       "45207        0        0        0        1        0        0   \n",
       "45208        0        0        0        1        0        0   \n",
       "45209        0        0        0        1        0        0   \n",
       "45210        0        0        0        1        0        0   \n",
       "\n",
       "       prev_outcome_failure  prev_outcome_other  prev_outcome_success  \\\n",
       "0                         0                   0                     0   \n",
       "1                         0                   0                     0   \n",
       "2                         0                   0                     0   \n",
       "3                         0                   0                     0   \n",
       "4                         0                   0                     0   \n",
       "...                     ...                 ...                   ...   \n",
       "45206                     0                   0                     0   \n",
       "45207                     0                   0                     0   \n",
       "45208                     0                   0                     1   \n",
       "45209                     0                   0                     0   \n",
       "45210                     0                   1                     0   \n",
       "\n",
       "       prev_outcome_unknown  \n",
       "0                         1  \n",
       "1                         1  \n",
       "2                         1  \n",
       "3                         1  \n",
       "4                         1  \n",
       "...                     ...  \n",
       "45206                     1  \n",
       "45207                     1  \n",
       "45208                     0  \n",
       "45209                     1  \n",
       "45210                     0  \n",
       "\n",
       "[45205 rows x 26 columns]"
      ]
     },
     "execution_count": 37,
     "metadata": {},
     "output_type": "execute_result"
    }
   ],
   "source": [
    "x"
   ]
  },
  {
   "cell_type": "code",
   "execution_count": 38,
   "id": "49df1b80",
   "metadata": {},
   "outputs": [
    {
     "data": {
      "text/plain": [
       "0        0\n",
       "1        0\n",
       "2        0\n",
       "3        0\n",
       "4        0\n",
       "        ..\n",
       "45206    1\n",
       "45207    1\n",
       "45208    1\n",
       "45209    0\n",
       "45210    0\n",
       "Name: y, Length: 45205, dtype: int64"
      ]
     },
     "execution_count": 38,
     "metadata": {},
     "output_type": "execute_result"
    }
   ],
   "source": [
    "y"
   ]
  },
  {
   "cell_type": "code",
   "execution_count": 39,
   "id": "ade376af",
   "metadata": {},
   "outputs": [
    {
     "data": {
      "text/plain": [
       "0    39916\n",
       "1    39916\n",
       "Name: y, dtype: int64"
      ]
     },
     "execution_count": 39,
     "metadata": {},
     "output_type": "execute_result"
    }
   ],
   "source": [
    "import imblearn\n",
    "from imblearn.over_sampling import SMOTE\n",
    "x_sm, y_sm = SMOTE().fit_resample(x,y)\n",
    "y_sm.value_counts()"
   ]
  },
  {
   "cell_type": "markdown",
   "id": "4b5fcce9",
   "metadata": {},
   "source": [
    "Now the dataset is balanced"
   ]
  },
  {
   "cell_type": "markdown",
   "id": "cc360089",
   "metadata": {},
   "source": [
    "# Models"
   ]
  },
  {
   "cell_type": "markdown",
   "id": "84c133da",
   "metadata": {},
   "source": [
    "# Logistic Regression"
   ]
  },
  {
   "cell_type": "code",
   "execution_count": 52,
   "id": "c344dccc",
   "metadata": {},
   "outputs": [],
   "source": [
    "from sklearn.model_selection import train_test_split\n",
    "X_train,X_test,y_train,y_test=train_test_split(x,y,test_size=0.2,random_state=42)"
   ]
  },
  {
   "cell_type": "code",
   "execution_count": 62,
   "id": "b48a7b8c",
   "metadata": {},
   "outputs": [],
   "source": [
    "from sklearn.preprocessing import StandardScaler                              \n",
    "sv = StandardScaler()                                               \n",
    "X_train = sv.fit_transform(X_train)                           \n",
    "X_test = sv.transform(X_test)      \n"
   ]
  },
  {
   "cell_type": "code",
   "execution_count": 63,
   "id": "b0ec9ebb",
   "metadata": {},
   "outputs": [
    {
     "data": {
      "text/plain": [
       "LogisticRegression()"
      ]
     },
     "execution_count": 63,
     "metadata": {},
     "output_type": "execute_result"
    }
   ],
   "source": [
    "from sklearn.linear_model import LogisticRegression              \n",
    "from sklearn.metrics import accuracy_score,roc_auc_score          \n",
    "model=LogisticRegression()  \n",
    "model.fit(X_train,y_train)"
   ]
  },
  {
   "cell_type": "code",
   "execution_count": 64,
   "id": "717697aa",
   "metadata": {},
   "outputs": [
    {
     "name": "stdout",
     "output_type": "stream",
     "text": [
      "0.8961398075434134\n",
      "0.7686622464134426\n"
     ]
    }
   ],
   "source": [
    "model1=model.predict(X_test)\n",
    "print(accuracy_score(model1,y_test))\n",
    "print(roc_auc_score(model1,y_test))"
   ]
  },
  {
   "cell_type": "markdown",
   "id": "1c20ac34",
   "metadata": {},
   "source": [
    "# SVM"
   ]
  },
  {
   "cell_type": "code",
   "execution_count": 67,
   "id": "22cfdfe7",
   "metadata": {},
   "outputs": [
    {
     "data": {
      "text/plain": [
       "SVC()"
      ]
     },
     "execution_count": 67,
     "metadata": {},
     "output_type": "execute_result"
    }
   ],
   "source": [
    "from sklearn.svm import SVC                                                              \n",
    "classifier = SVC()                    \n",
    "classifier.fit(X_train, y_train)                                                "
   ]
  },
  {
   "cell_type": "code",
   "execution_count": 68,
   "id": "3ebb2d27",
   "metadata": {},
   "outputs": [
    {
     "name": "stdout",
     "output_type": "stream",
     "text": [
      "0.8985731666851012\n",
      "0.7963704428476686\n"
     ]
    }
   ],
   "source": [
    "model2=classifier.predict(X_test)                                                 \n",
    "print(accuracy_score(model2,y_test))                           \n",
    "print(roc_auc_score(model2,y_test))              "
   ]
  },
  {
   "cell_type": "markdown",
   "id": "1b6d9622",
   "metadata": {},
   "source": [
    "# Decision Tree Classifier"
   ]
  },
  {
   "cell_type": "code",
   "execution_count": 69,
   "id": "0f59ac6e",
   "metadata": {},
   "outputs": [],
   "source": [
    "from sklearn.tree import DecisionTreeClassifier"
   ]
  },
  {
   "cell_type": "code",
   "execution_count": 70,
   "id": "7fab7c08",
   "metadata": {},
   "outputs": [
    {
     "name": "stdout",
     "output_type": "stream",
     "text": [
      "0.8685986063488552\n",
      "0.6896662386939405\n"
     ]
    }
   ],
   "source": [
    "model = DecisionTreeClassifier(random_state=0, splitter='best')\n",
    "model.fit(X_train, y_train)\n",
    "D_pred = model.predict(X_test)\n",
    "print(accuracy_score(D_pred,y_test))\n",
    "print(roc_auc_score(D_pred,y_test))"
   ]
  },
  {
   "cell_type": "markdown",
   "id": "877dad2d",
   "metadata": {},
   "source": [
    "# KNN"
   ]
  },
  {
   "cell_type": "code",
   "execution_count": 71,
   "id": "0adc1109",
   "metadata": {},
   "outputs": [
    {
     "name": "stdout",
     "output_type": "stream",
     "text": [
      "0.8939276628691516\n",
      "0.7541811372759903\n"
     ]
    }
   ],
   "source": [
    "from sklearn.neighbors import KNeighborsClassifier\n",
    "KNN = KNeighborsClassifier()\n",
    "KNN.fit(X_train, y_train)\n",
    "model_pred = KNN.predict(X_test)\n",
    "print(accuracy_score(model_pred,y_test))\n",
    "print(roc_auc_score(model_pred,y_test))"
   ]
  },
  {
   "cell_type": "markdown",
   "id": "38fb9689",
   "metadata": {},
   "source": [
    "# Here most important feature is duration\n",
    "\n",
    "Based on the results obtained from the evaluation of the four classification models (Logistic Regression, KNN, SVM, Decision Tree Classifier) on the given historical data,Support Vector machine gives Accuracy Score of 89% and the highest AUROC score of 0.79."
   ]
  }
 ],
 "metadata": {
  "kernelspec": {
   "display_name": "Python 3 (ipykernel)",
   "language": "python",
   "name": "python3"
  },
  "language_info": {
   "codemirror_mode": {
    "name": "ipython",
    "version": 3
   },
   "file_extension": ".py",
   "mimetype": "text/x-python",
   "name": "python",
   "nbconvert_exporter": "python",
   "pygments_lexer": "ipython3",
   "version": "3.9.12"
  }
 },
 "nbformat": 4,
 "nbformat_minor": 5
}
